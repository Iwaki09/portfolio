{
 "cells": [
  {
   "cell_type": "code",
   "execution_count": 1,
   "id": "ee51dc59",
   "metadata": {},
   "outputs": [],
   "source": [
    "import csv\n",
    "import pprint\n",
    "\n",
    "Citylist = [\"chuo\", \"kita\", \"higashi\", \"shiroishi\", \"toyohira\", \"minami\", \"nishi\", \"atsubetsu\", \"teine\", \"kiyota\", \"hakodate\", \"otaru\", \"asahikawa\", \"muroran\", \"kushiro\", \"obihiro\", \"kitami\", \"yubari\", \"iwamizawa\", \"abashiri\", \"rumoi\", \"tomakomai\", \"wakkanai\", \"bibai\", \"ashibetsu\", \"ebetsu\", \"akabira\", \"monbetsu\", \"shibetsu\", \"nayoro\", \"mikasa\", \"nemuro\", \"chitose\", \"takikawa\", \"sunagawa\", \"utashinai\", \"fukagawa\", \"furano\", \"noboribetsu\", \"eniwa\", \"date\", \"kitahiroshima\", \"ishikari\", \"hokuto\", \"tobetsu\", \"shinshinotsu\", \"matsumae\", \"fukushima\", \"shiriuchi\", \"kikonai\", \"nanae\", \"shikabe\", \"mori\", \"yakumo\", \"oshamanbe\", \"esashi\", \"kaminokuni\", \"assabu\", \"otobe\", \"okushiri\", \"imakane\", \"setana\", \"shimazaki\", \"suttsu\", \"kuromatsunai\", \"rankoshi\", \"niseko\", \"makkari\", \"rusutsu\", \"kimobetsu\", \"kyogoku\", \"kucchan\", \"kyowa\", \"iwanai\", \"tomari\", \"kamoenai\", \"shakotan\", \"furubira\", \"niki\", \"yoichi\", \"akaigawa\", \"nanporo\", \"naie\", \"kamisunagawa\", \"yuni\", \"naganuma\", \"kuriyama\", \"tsukigata\", \"urausu\", \"shintotsukawa\", \"moseushi\", \"chippubetsu\", \"uryu\", \"hokuryu\", \"numata\", \"takasu\", \"higashikagura\", \"toma\", \"pippu\", \"aibetsu\", \"kamikawa\", \"higashikawa\", \"biei\", \"kamifurano\", \"nakafurano\", \"minamifurano\", \"shimukappu\", \"wassamu\", \"kenbuchi\", \"shimokawa\", \"bifuka\", \"otoineppu\", \"nakagawa\", \"horokanai\", \"mashike\", \"obira\", \"tomamae\", \"haboro\", \"shosanbetsu\", \"enbetsu\", \"teshio\", \"sarufutsu\", \"hamatonbetsu\", \"nakatonbetsu\", \"esashi\", \"toyotomi\", \"rebun\", \"rishiri\", \"rishirifuji\", \"horonobe\", \"bihoro\", \"tsubetsu\", \"ozora\", \"shari\", \"kiyosato\", \"koshimizu\", \"kunneppu\", \"oketo\", \"saroma\"]\n",
    "\n",
    "for i in range(len(Citylist)):\n",
    "    with open(Citylist[i]+\".csv\",'w',encoding='utf-8') as f2:\n",
    "                writer = csv.writer(f2)\n",
    "                writer.writerow([\"都道府県コード\",\"都道府県名\",\"市区町村コード\",\"市区町村名\",\"大字町丁目コード\",\"大字町丁目名\",\"緯度\",\"経度\",\"原典資料コード\",\"大字・字・丁目区分コード\"])\n",
    "\n",
    "Citylist_ja = []\n",
    "filename = \"01_2021.csv\"\n",
    "with open(filename, encoding='CP932') as f1:\n",
    "    reader = csv.reader(f1)\n",
    "    \n",
    "    for line in reader:\n",
    "        if (line[3] not in Citylist_ja):\n",
    "            Citylist_ja.append(line[3])\n",
    "\n",
    "Citylist_ja.pop(0)\n",
    "\n",
    "with open(filename, encoding='CP932') as f1:\n",
    "    reader = csv.reader(f1)\n",
    "    \n",
    "    for line in reader:\n",
    "        for i in range(len(Citylist)):\n",
    "            if (line[3] == Citylist_ja[i]):\n",
    "                with open(Citylist[i]+\".csv\",'a',encoding='utf-8') as f2:\n",
    "                    writer = csv.writer(f2)\n",
    "                    writer.writerow(line)"
   ]
  },
  {
   "cell_type": "code",
   "execution_count": null,
   "id": "1c8de014",
   "metadata": {},
   "outputs": [],
   "source": []
  }
 ],
 "metadata": {
  "kernelspec": {
   "display_name": "Python 3 (ipykernel)",
   "language": "python",
   "name": "python3"
  },
  "language_info": {
   "codemirror_mode": {
    "name": "ipython",
    "version": 3
   },
   "file_extension": ".py",
   "mimetype": "text/x-python",
   "name": "python",
   "nbconvert_exporter": "python",
   "pygments_lexer": "ipython3",
   "version": "3.9.7"
  }
 },
 "nbformat": 4,
 "nbformat_minor": 5
}
