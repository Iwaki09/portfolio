{
 "cells": [
  {
   "cell_type": "code",
   "execution_count": 5,
   "id": "a1aa118c",
   "metadata": {},
   "outputs": [],
   "source": [
    "def ranking(): \n",
    "    import csv\n",
    "    \n",
    "    Pref = [\"hokkaido\", \"aomori\", \"iwate\", \"miyagi\", \"akita\", \"yamagata\", \"fukushima\", \"ibaraki\", \"tochigi\", \"gumma\", \"saitama\", \"chiba\", \"tokyo\", \"kanagawa\", \"nigata\", \"toyama\", \"ishikawa\", \"fukui\", \"yamanashi\", \"nagano\", \"gifu\", \"shizuoka\", \"aichi\", \"mie\", \"shiga\", \"kyoto\", \"osaka\", \"hyogo\", \"nara\", \"wakayama\", \"tottori\", \"shimane\", \"okayama\", \"hiroshima\", \"yamaguchi\", \"tokushima\", \"kagawa\", \"ehime\", \"kochi\", \"fukuoka\", \"saga\", \"nagasaki\", \"kumamoto\", \"oita\", \"miyazaki\", \"kagoshima\", \"okinawa\"]\n",
    "\n",
    "    read_list = []\n",
    "    \n",
    "    with open(\"frequent_word.csv\", encoding='utf-8') as f1:\n",
    "        reader = csv.reader(f1)\n",
    "\n",
    "        for line in reader:\n",
    "            read_list.append(line)\n",
    "\n",
    "    read_list.pop(0)\n",
    "    \n",
    "    result = []\n",
    "    \n",
    "    for i in range(len(read_list)):\n",
    "        score = [[p, 0] for p in range(len(read_list))]\n",
    "        score[i] = [i, 1000]\n",
    "        for j in range(len(read_list)):\n",
    "            if (i != j):\n",
    "                score[j][1] += (10-(len(read_list[i])-4)//2) * 100\n",
    "                score[j][1] += (10-(len(read_list[j])-4)//2) * 100\n",
    "                for k in range(min(10, (len(read_list[i])-4)//2)):\n",
    "                    \n",
    "                    for l in range(min(10, (len(read_list[j])-4)//2)):\n",
    "                        \n",
    "                        if (read_list[i][2*k+4] == read_list[j][2*l+4]):\n",
    "                            score[j][1] += abs(float(read_list[i][2*k+5]) - float(read_list[j][2*l+5]))\n",
    "                        else:\n",
    "                            score[j][1] += 10\n",
    "                        \n",
    "        # スコアをソート\n",
    "        score = sorted(score, key=lambda x: x[1])\n",
    "        \n",
    "        rank1 = score[0][0]\n",
    "        rank2 = score[1][0]\n",
    "        rank3 = score[2][0]\n",
    "            \n",
    "        result.append([read_list[i][0], read_list[i][1], read_list[i][2], read_list[i][3], read_list[rank1][0], read_list[rank1][1], read_list[rank1][2], read_list[rank1][3], read_list[rank2][0], read_list[rank2][1], read_list[rank2][2], read_list[rank2][3], read_list[rank3][0], read_list[rank3][1], read_list[rank3][2], read_list[rank3][3]])\n",
    "        \n",
    "    with open(\"ranking.csv\",'w',encoding='utf-8') as f2:\n",
    "        writer = csv.writer(f2)\n",
    "        writer.writerow([\"pref_en\", \"cityname_en\", \"pref_ja\", \"cityname_ja\", \"rank1_pref_en\", \"rank1_cityname_en\", \"rank1_pref_ja\", \"rank1_cityname_ja\",\"rank2_pref_en\", \"rank2_cityname_en\", \"rank2_pref_ja\", \"rank2_cityname_ja\", \"rank3_pref_en\", \"rank3_cityname_en\", \"rank3_pref_ja\", \"rank3_cityname_ja\"])\n",
    "        for line in result:\n",
    "            writer.writerow(line)\n",
    "        \n",
    "                    \n"
   ]
  },
  {
   "cell_type": "code",
   "execution_count": 6,
   "id": "6cc7d1e6",
   "metadata": {},
   "outputs": [],
   "source": [
    "if __name__ == \"__main__\":\n",
    "    ranking()"
   ]
  },
  {
   "cell_type": "code",
   "execution_count": null,
   "id": "ed360a11",
   "metadata": {},
   "outputs": [],
   "source": []
  }
 ],
 "metadata": {
  "kernelspec": {
   "display_name": "Python 3 (ipykernel)",
   "language": "python",
   "name": "python3"
  },
  "language_info": {
   "codemirror_mode": {
    "name": "ipython",
    "version": 3
   },
   "file_extension": ".py",
   "mimetype": "text/x-python",
   "name": "python",
   "nbconvert_exporter": "python",
   "pygments_lexer": "ipython3",
   "version": "3.9.7"
  }
 },
 "nbformat": 4,
 "nbformat_minor": 5
}
